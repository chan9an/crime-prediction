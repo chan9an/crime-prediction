{
  "cells": [
    {
      "cell_type": "code",
      "execution_count": 2,
      "metadata": {
        "colab": {
          "base_uri": "https://localhost:8080/"
        },
        "id": "jXpGUtnm6HhL",
        "outputId": "d9b4767c-297d-4927-e30b-a5af0bf1eea1"
      },
      "outputs": [
        {
          "name": "stdout",
          "output_type": "stream",
          "text": [
            "    Year  Population  Murder  Rape  Robbery  Assault  Burglary  CarTheft\n",
            "0   1965    18073000     836  2320    28182    27464    183443     58452\n",
            "1   1966    18258000     882  2439    30098    29142    196127     64368\n",
            "2   1967    18336000     996  2665    40202    31261    219157     83775\n",
            "3   1968    18113000    1185  2527    59857    34946    250918    104877\n",
            "4   1969    18321000    1324  2902    64754    36890    248477    115400\n",
            "5   1970    18190740    1444  2875    81149    39145    267474    125674\n",
            "6   1971    18391000    1823  3225    97682    42318    273704    127658\n",
            "7   1972    18366000    2026  4199    86391    45926    239886    105081\n",
            "8   1973    18265000    2040  4852    80795    47781    246246    112328\n",
            "9   1974    18111000    1919  5240    86814    51454    271824    104095\n",
            "10  1975    18120000    1996  5099    93499    54593    301996    116274\n",
            "11  1976    18084000    1969  4663    95718    54638    318919    133504\n",
            "12  1977    17924000    1919  5272    84703    57193    309735    133669\n",
            "13  1978    17748000    1820  5168    83785    58484    292956    119264\n",
            "14  1979    17649000    2092  5394    93471    60949    308302    124343\n",
            "15  1980    17506690    2228  5405   112273    60329    360925    133041\n",
            "16  1981    17594000    2166  5479   120344    60189    350422    136849\n",
            "17  1982    17659000    2013  5159   107843    59818    295245    137880\n",
            "18  1983    17667000    1958  5296    94783    59452    249115    127861\n",
            "19  1984    17735000    1786  5599    89900    64872    222956    115392\n",
            "20  1985    17783000    1683  5706    89706    68270    219633    106537\n",
            "21  1986    17772000    1907  5415    91360    76528    217010    113247\n",
            "22  1987    17825000    2016  5537    89721    82417    216826    125329\n",
            "23  1988    17898000    2244  5479    97434    91239    218060    153898\n",
            "24  1989    17950000    2246  5242   103983    91571    211130    171007\n",
            "25  1990    17990455    2605  5368   112380    92105    208813    187591\n",
            "26  1991    18058000    2571  5085   112342    90186    204499    181287\n",
            "27  1992    18119000    2397  5152   108154    87608    193548    168922\n",
            "28  1993    18197000    2420  5008   102122    85802    181709    151949\n",
            "29  1994    18169000    2016  4700    86617    82100    164650    128873\n",
            "30  1995    18136000    1550  4290    72492    74351    146562    102596\n",
            "31  1996    18185000    1353  4174    61822    64857    129828     89900\n",
            "32  1997    18137000    1093  4075    56094    63628    118306     79697\n",
            "33  1998    18175000     924  3843    49125    62023    104821     68171\n",
            "34  1999    18196601     903  3563    43821    58860     93217     58261\n",
            "35  2000    18976457     952  3530    40539    60090     87946     54231\n",
            "36  2001    19084350     960  3546    36555    56961     80400     48287\n",
            "37  2002    19134293     909  3885    36653    53583     76700     47366\n",
            "38  2003    19212425     934  3775    35790    48987     75453     45204\n",
            "39  2004    19280727     889  3608    33506    46911     70696     41002\n",
            "40  2005    19315721     874  3636    35179    46150     68034     35736\n",
            "41  2006    19306183     921  3169    34489    45387     68565     32134\n",
            "42  2007    19297729     801  2926    31094    45094     64857     28030\n",
            "43  2008    19467789     836  2799    31789    42122     65537     25096\n",
            "44  2009    19541453     781  2582    28141    43606     62769     21871\n",
            "45  2010    19395206     868  2797    28630    44197     65839     20639\n",
            "46  2011    19465197     774  2752    28396    45568     65397     19311\n"
          ]
        }
      ],
      "source": [
        "import pandas as pd\n",
        "from sklearn.model_selection import train_test_split\n",
        "from sklearn.preprocessing import LabelEncoder\n",
        "from sklearn.linear_model import LogisticRegression\n",
        "from sklearn.ensemble import RandomForestClassifier\n",
        "from sklearn.metrics import accuracy_score, classification_report\n",
        "from sklearn.svm import SVC\n",
        "from sklearn.linear_model import LinearRegression\n",
        "from sklearn.metrics import mean_squared_error, r2_score\n",
        "from sklearn.ensemble import RandomForestRegressor\n",
        "from sklearn.impute import SimpleImputer\n",
        "from sklearn.pipeline import Pipeline\n",
        "from sklearn.compose import ColumnTransformer\n",
        "\n",
        "a = \"crime.csv\"\n",
        "#a = \"crime_data.csv\"\n",
        "d = pd.read_csv(a)\n",
        "pd.set_option('display.max_columns', None)\n",
        "pd.set_option('display.max_rows', None)\n",
        "print(d)\n",
        "\n"
      ]
    },
    {
      "cell_type": "code",
      "execution_count": 3,
      "metadata": {
        "id": "XkI34Qt4Q2pc"
      },
      "outputs": [
        {
          "name": "stdout",
          "output_type": "stream",
          "text": [
            "Year          0\n",
            "Population    0\n",
            "Murder        0\n",
            "Rape          0\n",
            "Robbery       0\n",
            "Assault       0\n",
            "Burglary      0\n",
            "CarTheft      0\n",
            "dtype: int64\n"
          ]
        }
      ],
      "source": [
        "print(d.isnull().sum())\n",
        "\n"
      ]
    },
    {
      "cell_type": "code",
      "execution_count": 4,
      "metadata": {
        "colab": {
          "base_uri": "https://localhost:8080/"
        },
        "id": "IAe3IXaXRcHh",
        "outputId": "b4d5e1bf-e5ee-4355-b025-ab2876878f3c"
      },
      "outputs": [
        {
          "name": "stdout",
          "output_type": "stream",
          "text": [
            "<class 'pandas.core.frame.DataFrame'>\n",
            "RangeIndex: 47 entries, 0 to 46\n",
            "Data columns (total 8 columns):\n",
            " #   Column      Non-Null Count  Dtype\n",
            "---  ------      --------------  -----\n",
            " 0   Year        47 non-null     int64\n",
            " 1   Population  47 non-null     int64\n",
            " 2   Murder      47 non-null     int64\n",
            " 3   Rape        47 non-null     int64\n",
            " 4   Robbery     47 non-null     int64\n",
            " 5   Assault     47 non-null     int64\n",
            " 6   Burglary    47 non-null     int64\n",
            " 7   CarTheft    47 non-null     int64\n",
            "dtypes: int64(8)\n",
            "memory usage: 3.1 KB\n"
          ]
        }
      ],
      "source": [
        "d.info()"
      ]
    },
    {
      "cell_type": "code",
      "execution_count": 5,
      "metadata": {
        "id": "sUJ0umRfcMnO"
      },
      "outputs": [
        {
          "name": "stdout",
          "output_type": "stream",
          "text": [
            "Accuracy: 0.0\n",
            "Classification Report:\n",
            "              precision    recall  f1-score   support\n",
            "\n",
            "         836       0.00      0.00      0.00       1.0\n",
            "         889       0.00      0.00      0.00       1.0\n",
            "         960       0.00      0.00      0.00       1.0\n",
            "        1324       0.00      0.00      0.00       1.0\n",
            "        1786       0.00      0.00      0.00       1.0\n",
            "        1919       0.00      0.00      0.00       1.0\n",
            "        2016       0.00      0.00      0.00       0.0\n",
            "        2246       0.00      0.00      0.00       1.0\n",
            "        2397       0.00      0.00      0.00       1.0\n",
            "        2571       0.00      0.00      0.00       1.0\n",
            "        2605       0.00      0.00      0.00       1.0\n",
            "\n",
            "    accuracy                           0.00      10.0\n",
            "   macro avg       0.00      0.00      0.00      10.0\n",
            "weighted avg       0.00      0.00      0.00      10.0\n",
            "\n"
          ]
        },
        {
          "name": "stderr",
          "output_type": "stream",
          "text": [
            "C:\\Users\\ASUS\\AppData\\Roaming\\Python\\Python312\\site-packages\\sklearn\\metrics\\_classification.py:1497: UndefinedMetricWarning: Precision is ill-defined and being set to 0.0 in labels with no predicted samples. Use `zero_division` parameter to control this behavior.\n",
            "  _warn_prf(average, modifier, f\"{metric.capitalize()} is\", len(result))\n",
            "C:\\Users\\ASUS\\AppData\\Roaming\\Python\\Python312\\site-packages\\sklearn\\metrics\\_classification.py:1497: UndefinedMetricWarning: Recall is ill-defined and being set to 0.0 in labels with no true samples. Use `zero_division` parameter to control this behavior.\n",
            "  _warn_prf(average, modifier, f\"{metric.capitalize()} is\", len(result))\n",
            "C:\\Users\\ASUS\\AppData\\Roaming\\Python\\Python312\\site-packages\\sklearn\\metrics\\_classification.py:1497: UndefinedMetricWarning: Precision is ill-defined and being set to 0.0 in labels with no predicted samples. Use `zero_division` parameter to control this behavior.\n",
            "  _warn_prf(average, modifier, f\"{metric.capitalize()} is\", len(result))\n",
            "C:\\Users\\ASUS\\AppData\\Roaming\\Python\\Python312\\site-packages\\sklearn\\metrics\\_classification.py:1497: UndefinedMetricWarning: Recall is ill-defined and being set to 0.0 in labels with no true samples. Use `zero_division` parameter to control this behavior.\n",
            "  _warn_prf(average, modifier, f\"{metric.capitalize()} is\", len(result))\n",
            "C:\\Users\\ASUS\\AppData\\Roaming\\Python\\Python312\\site-packages\\sklearn\\metrics\\_classification.py:1497: UndefinedMetricWarning: Precision is ill-defined and being set to 0.0 in labels with no predicted samples. Use `zero_division` parameter to control this behavior.\n",
            "  _warn_prf(average, modifier, f\"{metric.capitalize()} is\", len(result))\n",
            "C:\\Users\\ASUS\\AppData\\Roaming\\Python\\Python312\\site-packages\\sklearn\\metrics\\_classification.py:1497: UndefinedMetricWarning: Recall is ill-defined and being set to 0.0 in labels with no true samples. Use `zero_division` parameter to control this behavior.\n",
            "  _warn_prf(average, modifier, f\"{metric.capitalize()} is\", len(result))\n"
          ]
        }
      ],
      "source": [
        "X = d.drop('Murder', axis=1)\n",
        "y = d['Murder']\n",
        "\n",
        "X = pd.get_dummies(X)\n",
        "\n",
        "X_train, X_test, y_train, y_test = train_test_split(X, y, test_size=0.2, random_state=42)\n",
        "\n",
        "model = SVC(kernel='rbf', random_state=42)\n",
        "model.fit(X_train, y_train)\n",
        "\n",
        "y_pred = model.predict(X_test)\n",
        "\n",
        "accuracy = accuracy_score(y_test, y_pred)\n",
        "print(\"Accuracy:\", accuracy)\n",
        "print(\"Classification Report:\")\n",
        "print(classification_report(y_test, y_pred))"
      ]
    },
    {
      "cell_type": "code",
      "execution_count": 6,
      "metadata": {
        "colab": {
          "base_uri": "https://localhost:8080/",
          "height": 564
        },
        "id": "Uo54DdZBgXfl",
        "outputId": "fac8e264-5481-4fdc-c791-ffb08693e2e1"
      },
      "outputs": [
        {
          "ename": "NameError",
          "evalue": "name 'url' is not defined",
          "output_type": "error",
          "traceback": [
            "\u001b[1;31m---------------------------------------------------------------------------\u001b[0m",
            "\u001b[1;31mNameError\u001b[0m                                 Traceback (most recent call last)",
            "Cell \u001b[1;32mIn[6], line 1\u001b[0m\n\u001b[1;32m----> 1\u001b[0m data \u001b[38;5;241m=\u001b[39m pd\u001b[38;5;241m.\u001b[39mread_csv(\u001b[43murl\u001b[49m, skiprows\u001b[38;5;241m=\u001b[39m[\u001b[38;5;241m2\u001b[39m])\n\u001b[0;32m      3\u001b[0m \u001b[38;5;66;03m# Separate numeric and categorical columns\u001b[39;00m\n\u001b[0;32m      4\u001b[0m numeric_cols \u001b[38;5;241m=\u001b[39m data\u001b[38;5;241m.\u001b[39mselect_dtypes(include\u001b[38;5;241m=\u001b[39m\u001b[38;5;124m'\u001b[39m\u001b[38;5;124mnumber\u001b[39m\u001b[38;5;124m'\u001b[39m)\u001b[38;5;241m.\u001b[39mcolumns\n",
            "\u001b[1;31mNameError\u001b[0m: name 'url' is not defined"
          ]
        }
      ],
      "source": []
    }
  ],
  "metadata": {
    "colab": {
      "provenance": []
    },
    "kernelspec": {
      "display_name": "Python 3",
      "name": "python3"
    },
    "language_info": {
      "codemirror_mode": {
        "name": "ipython",
        "version": 3
      },
      "file_extension": ".py",
      "mimetype": "text/x-python",
      "name": "python",
      "nbconvert_exporter": "python",
      "pygments_lexer": "ipython3",
      "version": "3.12.1"
    }
  },
  "nbformat": 4,
  "nbformat_minor": 0
}
